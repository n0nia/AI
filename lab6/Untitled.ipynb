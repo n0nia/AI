{
 "cells": [
  {
   "cell_type": "code",
   "execution_count": 3,
   "metadata": {},
   "outputs": [
    {
     "name": "stdout",
     "output_type": "stream",
     "text": [
      "[[2.0150e+03 4.1000e+04 1.9670e+01 1.5820e+03 1.2620e+02 5.0000e+00\n",
      "  1.0000e+00 0.0000e+00 1.0000e+00 0.0000e+00 0.0000e+00 0.0000e+00\n",
      "  1.0000e+00 0.0000e+00]\n",
      " [2.0110e+03 4.6000e+04 1.8200e+01 1.1990e+03 8.8700e+01 5.0000e+00\n",
      "  1.0000e+00 0.0000e+00 0.0000e+00 1.0000e+00 0.0000e+00 0.0000e+00\n",
      "  1.0000e+00 0.0000e+00]\n",
      " [2.0120e+03 8.7000e+04 2.0770e+01 1.2480e+03 8.8760e+01 7.0000e+00\n",
      "  1.0000e+00 0.0000e+00 1.0000e+00 0.0000e+00 0.0000e+00 0.0000e+00\n",
      "  1.0000e+00 0.0000e+00]\n",
      " [2.0130e+03 8.6999e+04 2.3080e+01 1.4610e+03 6.3100e+01 5.0000e+00\n",
      "  1.0000e+00 0.0000e+00 1.0000e+00 0.0000e+00 0.0000e+00 0.0000e+00\n",
      "  1.0000e+00 0.0000e+00]]\n",
      "[12.5  4.5  6.   3.5]\n",
      "[[2.0170e+03 1.8351e+04 2.1900e+01 6.2400e+02 3.7480e+01 4.0000e+00\n",
      "  1.0000e+00 0.0000e+00 0.0000e+00 1.0000e+00 0.0000e+00 0.0000e+00\n",
      "  0.0000e+00 1.0000e+00]\n",
      " [2.0150e+03 9.1000e+04 2.1100e+01 8.1400e+02 5.5200e+01 5.0000e+00\n",
      "  1.0000e+00 0.0000e+00 0.0000e+00 1.0000e+00 0.0000e+00 0.0000e+00\n",
      "  1.0000e+00 0.0000e+00]\n",
      " [2.0180e+03 2.0667e+04 1.8900e+01 1.1970e+03 8.1860e+01 5.0000e+00\n",
      "  1.0000e+00 0.0000e+00 0.0000e+00 1.0000e+00 0.0000e+00 0.0000e+00\n",
      "  0.0000e+00 1.0000e+00]\n",
      " [2.0070e+03 5.5000e+04 1.3200e+01 1.4950e+03 9.4000e+01 5.0000e+00\n",
      "  1.0000e+00 0.0000e+00 0.0000e+00 1.0000e+00 0.0000e+00 0.0000e+00\n",
      "  1.0000e+00 0.0000e+00]]\n",
      "[3.41 2.5  7.55 2.65]\n"
     ]
    }
   ],
   "source": [
    "import numpy as np\n",
    "from sklearn.utils import shuffle\n",
    "\n",
    "training_data = np.load('training_data.npy')\n",
    "prices = np.load('prices.npy')\n",
    "\n",
    "print(training_data[:4])\n",
    "print(prices[:4])\n",
    "\n",
    "training_data, prices = shuffle(training_data, prices, random_state=0)\n",
    "\n",
    "print(training_data[:4])\n",
    "print(prices[:4])"
   ]
  },
  {
   "cell_type": "code",
   "execution_count": 4,
   "metadata": {},
   "outputs": [],
   "source": [
    "import sklearn.preprocessing as preprocessing\n",
    "\n",
    "def normalize(train_data, test_data, type=None):\n",
    "    if type is None:\n",
    "        return train_data, test_data\n",
    "    elif type == 'standard':\n",
    "        scaler = preprocessing.StandardScaler()\n",
    "        scaler.fit(train_data)\n",
    "        return scaler.transform(train_data), scaler.transform(test_data)\n",
    "    elif type == 'min-max':\n",
    "        scaler = preprocessing.MinMaxScaler()\n",
    "        scaler.fit(train_data)\n",
    "        return scaler.transform(train_data), scaler.transform(test_data)\n",
    "    elif type == 'l1' or type == 'l2':\n",
    "        scaler = preprocessing.Normalizer(type)\n",
    "        scaler.fit(train_data)\n",
    "        return scaler.transform(train_data), scaler.transform(test_data)"
   ]
  },
  {
   "cell_type": "code",
   "execution_count": 5,
   "metadata": {},
   "outputs": [
    {
     "data": {
      "text/plain": [
       "(1.3203744, 3.169078)"
      ]
     },
     "execution_count": 5,
     "metadata": {},
     "output_type": "execute_result"
    }
   ],
   "source": [
    "from sklearn.model_selection import cross_val_score, KFold\n",
    "from sklearn.metrics import mean_absolute_error, mean_squared_error\n",
    "from sklearn.linear_model import LinearRegression, Ridge, Lasso\n",
    "\n",
    "\n",
    "def train_and_validate(train_data, train_labels, n_folds, model):\n",
    "    kf = KFold(n_splits=n_folds)\n",
    "\n",
    "    kf.get_n_splits(train_data)\n",
    "\n",
    "    mses = []\n",
    "    maes = []\n",
    "\n",
    "    for train_index, test_index in kf.split(train_data):\n",
    "        # print(\"TRAIN:\", train_index, \"TEST:\", test_index)\n",
    "        X_train, X_test = train_data[train_index], train_data[test_index]\n",
    "        y_train, y_test = train_labels[train_index], train_labels[test_index]\n",
    "\n",
    "        X_train_scaled, X_test_scaled = normalize(X_train, X_test, 'standard')\n",
    "        \n",
    "        model.fit(X_train_scaled, y_train)\n",
    "\n",
    "        predictions = model.predict(X_test_scaled)\n",
    "        # calculam MSE, MAE\n",
    "        mse_value = mean_squared_error(y_test, predictions)\n",
    "        mae_value = mean_absolute_error(y_test, predictions)\n",
    "\n",
    "        mses.append(mse_value)\n",
    "        maes.append(mae_value)\n",
    "\n",
    "    return np.mean(maes), np.mean(mses)\n",
    "\n",
    "train_and_validate(training_data, prices, 3, LinearRegression())\n",
    "# train_and_validate(training_data, prices, 3, Ridge(alpha=128))"
   ]
  },
  {
   "cell_type": "code",
   "execution_count": 6,
   "metadata": {},
   "outputs": [
    {
     "name": "stdout",
     "output_type": "stream",
     "text": [
      "MAE for alpha=1 is 1.3195840120315552\n",
      "MSE for alpha=1 is 3.167421340942383\n",
      "------------------------------------\n",
      "MAE for alpha=10 is 1.3193808794021606\n",
      "MSE for alpha=10 is 3.1672849655151367\n",
      "------------------------------------\n",
      "MAE for alpha=100 is 1.318595051765442\n",
      "MSE for alpha=100 is 3.1722867488861084\n",
      "------------------------------------\n",
      "MAE for alpha=1000 is 1.366579532623291\n",
      "MSE for alpha=1000 is 3.4331789016723633\n",
      "------------------------------------\n"
     ]
    }
   ],
   "source": [
    "for alpha in [1, 10, 100, 1000]:\n",
    "    mae, mse = train_and_validate(training_data, prices, 3, Ridge(alpha=alpha))\n",
    "    print(f'MAE for alpha={alpha} is {mae}')\n",
    "    print(f'MSE for alpha={alpha} is {mse}')\n",
    "    print('------------------------------------')"
   ]
  },
  {
   "cell_type": "code",
   "execution_count": 9,
   "metadata": {},
   "outputs": [],
   "source": [
    "alpha = 100\n",
    "\n",
    "X_train_scaled, _ = normalize(training_data, training_data, 'standard')\n",
    "y_train = prices\n",
    "\n",
    "model = Ridge(alpha=alpha)\n",
    "model.fit(X_train_scaled, y_train)\n",
    "weights = model.coef_"
   ]
  },
  {
   "cell_type": "code",
   "execution_count": 10,
   "metadata": {},
   "outputs": [
    {
     "data": {
      "text/plain": [
       "array([ 1.6153115 , -0.16623873, -0.41921714,  0.46560568,  1.2771597 ,\n",
       "        0.13427809, -0.09638961,  0.        ,  0.35462627, -0.35463724,\n",
       "        0.        ,  0.        , -0.2362309 ,  0.23623155], dtype=float32)"
      ]
     },
     "execution_count": 10,
     "metadata": {},
     "output_type": "execute_result"
    }
   ],
   "source": [
    "weights"
   ]
  },
  {
   "cell_type": "code",
   "execution_count": 11,
   "metadata": {},
   "outputs": [
    {
     "name": "stdout",
     "output_type": "stream",
     "text": [
      "cel mai importnant 1\n",
      "urmatorul 5\n",
      "cel mai putin importnant 3\n"
     ]
    }
   ],
   "source": [
    "idxes = np.argsort(weights)\n",
    "\n",
    "print('cel mai importnant', idxes[-1] + 1)\n",
    "print('urmatorul', idxes[-2] + 1)\n",
    "print('cel mai putin importnant', idxes[0] + 1)"
   ]
  },
  {
   "cell_type": "code",
   "execution_count": null,
   "metadata": {},
   "outputs": [],
   "source": []
  }
 ],
 "metadata": {
  "kernelspec": {
   "display_name": "Python 3",
   "language": "python",
   "name": "python3"
  },
  "language_info": {
   "codemirror_mode": {
    "name": "ipython",
    "version": 3
   },
   "file_extension": ".py",
   "mimetype": "text/x-python",
   "name": "python",
   "nbconvert_exporter": "python",
   "pygments_lexer": "ipython3",
   "version": "3.7.4"
  }
 },
 "nbformat": 4,
 "nbformat_minor": 2
}
