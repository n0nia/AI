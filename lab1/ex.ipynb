{
 "cells": [
  {
   "cell_type": "code",
   "execution_count": 3,
   "metadata": {},
   "outputs": [
    {
     "name": "stdout",
     "output_type": "stream",
     "text": [
      "0.8\n",
      "0.8\n",
      "0.6666666666666666\n",
      "0.3\n",
      "0.3\n"
     ]
    }
   ],
   "source": [
    "class Ex:\n",
    "    def __init__(self, y_pred, y_true):\n",
    "        self.y_pred = y_pred\n",
    "        self.y_true = y_true\n",
    "        \n",
    "    def accuracy_score(self):\n",
    "        sum = 0\n",
    "        for (a, b) in zip(self.y_true, self.y_pred):\n",
    "            if a == b:\n",
    "                sum += (a + b)\n",
    "        print(sum / len(self.y_true))\n",
    "    \n",
    "    def precision_recall_score(self):\n",
    "        tp = 0\n",
    "        fp = 0\n",
    "        fn = 0\n",
    "        for (a, b) in zip(self.y_true, self.y_pred):\n",
    "            if a == 1 and b == 1:\n",
    "                tp += 1\n",
    "            elif a == 1 and b == 0:\n",
    "                fp += 1\n",
    "            elif a == 0 and b == 1:\n",
    "                fn += 1\n",
    "        print(tp / (tp + fp))\n",
    "        print(tp / (tp + fn))\n",
    "    \n",
    "    def mse(self):\n",
    "        sum = 0\n",
    "        for (a, b) in zip(self.y_true, self.y_pred):\n",
    "            sum += (a - b) * (a - b)\n",
    "        print(sum / len(self.y_true))\n",
    "    \n",
    "    def mae(self):\n",
    "        sum = 0\n",
    "        for (a, b) in zip(self.y_true, self.y_pred):\n",
    "            if a - b > 0:\n",
    "                sum += (a - b)\n",
    "            else:\n",
    "                sum += (b - a)\n",
    "        print(sum / len(self.y_true))\n",
    "        \n",
    "y_pred = [1, 1, 1, 0, 1, 0, 1, 1, 0, 0]\n",
    "y_true = [1, 0, 1, 0, 1, 0, 1, 0, 1, 0]\n",
    "\n",
    "g = Ex(y_pred, y_true)\n",
    "g.accuracy_score()\n",
    "g.precision_recall_score()\n",
    "g.mse()\n",
    "g.mae()"
   ]
  },
  {
   "cell_type": "code",
   "execution_count": null,
   "metadata": {},
   "outputs": [],
   "source": []
  }
 ],
 "metadata": {
  "kernelspec": {
   "display_name": "Python 3",
   "language": "python",
   "name": "python3"
  },
  "language_info": {
   "codemirror_mode": {
    "name": "ipython",
    "version": 3
   },
   "file_extension": ".py",
   "mimetype": "text/x-python",
   "name": "python",
   "nbconvert_exporter": "python",
   "pygments_lexer": "ipython3",
   "version": "3.7.4"
  }
 },
 "nbformat": 4,
 "nbformat_minor": 2
}
